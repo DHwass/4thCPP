{
 "cells": [
  {
   "cell_type": "code",
   "execution_count": 28,
   "id": "f8efe47a",
   "metadata": {},
   "outputs": [
    {
     "name": "stdout",
     "output_type": "stream",
     "text": [
      "[[1, 2, 3], [4, 5, 6]]\n",
      "<class 'list'>\n"
     ]
    }
   ],
   "source": [
    "#EXERCICE 1\n",
    "import numpy as np\n",
    "X=np.array([[1,2,3],[4,5,6]])\n",
    "A=X.tolist()\n",
    "print(A)\n",
    "#checking\n",
    "print(type(A))"
   ]
  },
  {
   "cell_type": "code",
   "execution_count": 1,
   "id": "d5e1f12e",
   "metadata": {},
   "outputs": [
    {
     "name": "stdout",
     "output_type": "stream",
     "text": [
      "[[-0.15791406  1.9428652   1.14575163  0.08075055  0.3962514 ]\n",
      " [ 1.48025694  0.49615092  1.417605   -1.061095    1.36992927]\n",
      " [ 0.5482076   2.7187702  -0.68867075 -0.91004172 -1.81856772]\n",
      " [-0.80412153 -0.43579044 -0.85157822 -0.05832448 -0.06506123]\n",
      " [ 1.29022722  1.01645819 -1.36059673 -0.67006485 -0.53185005]]\n",
      "[-0.15791406  0.49615092 -0.68867075 -0.05832448 -0.53185005]\n",
      "-0.9406084183638838\n"
     ]
    }
   ],
   "source": [
    "#EXERCICE 2\n",
    "n=np.random.randn(5,5)\n",
    "print(n)\n",
    "L=np.diag(n)\n",
    "print(L)\n",
    "somme=0\n",
    "for i in L:\n",
    "    somme=somme+i\n",
    "print(somme)"
   ]
  },
  {
   "cell_type": "code",
   "execution_count": 18,
   "id": "9f8780bb",
   "metadata": {},
   "outputs": [
    {
     "name": "stdout",
     "output_type": "stream",
     "text": [
      "Entrez le num3\n",
      "[ 4  5  6  5 43  4  6  4  7  9]\n"
     ]
    }
   ],
   "source": [
    "import numpy as np\n",
    "C=np.array([[3,4,3,1,2,5,6,5,43,2,1],[2,4,3,1,2,6,4,2,7,9,0]])\n",
    "x=int(input('Entrez le num'))\n",
    "print(C[C>x])"
   ]
  },
  {
   "cell_type": "code",
   "execution_count": 22,
   "id": "919587ec",
   "metadata": {},
   "outputs": [
    {
     "name": "stdout",
     "output_type": "stream",
     "text": [
      "[[ 5  3 36]\n",
      " [14  8  9]]\n"
     ]
    }
   ],
   "source": [
    "A=np.array([[1,2,3],[1,4,5]])\n",
    "B=np.array([[4,1,33],[13,4,4]])\n",
    "C=np.add(A,B)\n",
    "print(C)\n"
   ]
  }
 ],
 "metadata": {
  "kernelspec": {
   "display_name": "Python 3 (ipykernel)",
   "language": "python",
   "name": "python3"
  },
  "language_info": {
   "codemirror_mode": {
    "name": "ipython",
    "version": 3
   },
   "file_extension": ".py",
   "mimetype": "text/x-python",
   "name": "python",
   "nbconvert_exporter": "python",
   "pygments_lexer": "ipython3",
   "version": "3.9.12"
  },
  "varInspector": {
   "cols": {
    "lenName": 16,
    "lenType": 16,
    "lenVar": 40
   },
   "kernels_config": {
    "python": {
     "delete_cmd_postfix": "",
     "delete_cmd_prefix": "del ",
     "library": "var_list.py",
     "varRefreshCmd": "print(var_dic_list())"
    },
    "r": {
     "delete_cmd_postfix": ") ",
     "delete_cmd_prefix": "rm(",
     "library": "var_list.r",
     "varRefreshCmd": "cat(var_dic_list()) "
    }
   },
   "types_to_exclude": [
    "module",
    "function",
    "builtin_function_or_method",
    "instance",
    "_Feature"
   ],
   "window_display": false
  }
 },
 "nbformat": 4,
 "nbformat_minor": 5
}
